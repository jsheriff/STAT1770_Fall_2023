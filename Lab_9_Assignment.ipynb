{
 "cells": [
  {
   "cell_type": "markdown",
   "metadata": {
    "slideshow": {
     "slide_type": "slide"
    }
   },
   "source": [
    "# Lab 9 Assignment\n",
    "\n",
    "### Lab 9 Assignment is due on Friday December 1 at 8:00 pm. \n",
    "\n",
    "### Complete this notebook, by introducing and executing the required code and answering the related questions.\n",
    "\n",
    "### When you have finished your work and wish to submit your assignment, download this notebook as a pdf file File > Save and Export Notebook as > PDF or File > Print > Save as PDF.  Submit the pdf file to Lab 9 Assignment in Crowdmark.\n",
    "\n",
    "### You can copy, paste, and modify code from previous labs if you wish, as opposed to writing code from scratch. Open the previous lab and highlight the code you want. Then copy and paste the code into this assignment and make the necessary modifications.\n",
    "\n",
    "### If you have questions, please ask.\n",
    "\n",
    "---"
   ]
  },
  {
   "cell_type": "markdown",
   "metadata": {},
   "source": [
    "## Load Data: "
   ]
  },
  {
   "cell_type": "code",
   "execution_count": null,
   "metadata": {
    "deletable": false
   },
   "outputs": [],
   "source": [
    "download.file(\"http://www.openintro.org/data/rda/leg_mari.rda\",destfile = \"leg_mari.rda\")\n",
    "load(\"leg_mari.rda\")"
   ]
  },
  {
   "cell_type": "markdown",
   "metadata": {},
   "source": [
    "The `download.file` function and `load` function are used to import the dataset that will be used in the assignment. The data that is available to you is called `leg_mari`. These commands instruct R to access the OpenIntro website and retrieve some data, which is in a file called `leg_mari.rda`. The .rda indicates a file format, like .csv, .txt etc. R is capable of importing files of various formats (using the appropriate command). The `leg_mari` dataset, which is contained within `leg_mari.rda` is already in a format native to R.  "
   ]
  },
  {
   "cell_type": "markdown",
   "metadata": {},
   "source": [
    "This lab will make use of the `inference` function that was previously used in the Practice Lab. As with the Practice Lab, we will use the `source` function to load the `inference_1770.R` file which contains the `inference` function."
   ]
  },
  {
   "cell_type": "code",
   "execution_count": null,
   "metadata": {},
   "outputs": [],
   "source": [
    "source(\"inference_1770.R\")"
   ]
  },
  {
   "cell_type": "markdown",
   "metadata": {},
   "source": [
    "## Data Information:\n",
    "\n",
    "### Data Set:\n",
    "\n",
    "#### Name: #### \n",
    "* `leg_mari`\n",
    "\n",
    "\n",
    "#### Variables: ####\n",
    "\n",
    "The variables included in the dataset are  \n",
    "\n",
    "* `response`: respondent answered either `oppose` or `support` to the question of legalizing marijuana."
   ]
  },
  {
   "cell_type": "markdown",
   "metadata": {
    "deletable": false,
    "slideshow": {
     "slide_type": "slide"
    }
   },
   "source": [
    "## Support for Legalization of Marijuana in California\n",
    "\n",
    "As part of the 2010 U.S. general election, Proposition 19 was on the ballot in California. If passed, Proposition 19, would change California law to legalize marijuana and allow it to be regulated and taxed. A 2010 Survey USA poll, contacted a random sample of 119 respondents between the ages of 18 and 34 to determine support for the Proposition among that age group. \n",
    "\n",
    "---"
   ]
  },
  {
   "cell_type": "markdown",
   "metadata": {},
   "source": [
    "We could use some combination of `head`, `tail`, `dim`, `names`, `str` to begin exploring the `leg_mari` dataset."
   ]
  },
  {
   "cell_type": "code",
   "execution_count": null,
   "metadata": {},
   "outputs": [],
   "source": [
    "head(leg_mari)"
   ]
  },
  {
   "cell_type": "markdown",
   "metadata": {},
   "source": [
    "***We are interested in estimating the proportion of 18-34 year-olds in California that support Proposition 19 to legalize marijuana.***"
   ]
  },
  {
   "cell_type": "markdown",
   "metadata": {
    "deletable": false
   },
   "source": [
    "### Exercise 1:  Construct a table that displays the proportion of respondents in the sample that support and oppose Proposition 19 for the legalization of marijuana. That is a table of proportions for the variable `response`. (2 marks) "
   ]
  },
  {
   "cell_type": "code",
   "execution_count": null,
   "metadata": {},
   "outputs": [],
   "source": []
  },
  {
   "cell_type": "markdown",
   "metadata": {},
   "source": [
    "### Exercise 2:  Create a barplot that displays the proportions of respondents in the sample that oppose and support Proposition for the legalization of marijuana. (2 marks)"
   ]
  },
  {
   "cell_type": "code",
   "execution_count": null,
   "metadata": {},
   "outputs": [],
   "source": []
  },
  {
   "cell_type": "markdown",
   "metadata": {},
   "source": [
    "### Exercise 3:  What proportion of 18-34 year-olds in the sample support Proposition 19? (1 mark)"
   ]
  },
  {
   "cell_type": "markdown",
   "metadata": {},
   "source": [
    "### Answer:  "
   ]
  },
  {
   "cell_type": "markdown",
   "metadata": {},
   "source": [
    "#### Central Limit Theorem conditions <br><br> Independence: We have a random sample of 18-34 year-olds and the sample is not more than 10% of the population <br><br> Sample size large enough: <br><br> * Success: For either the hypothesis test or the confidence interval you can show that either $np_0 \\ge 10$ or $n\\hat{p} \\ge 10$  <br> <br> * Failure: For either the hypothesis test or the confidence interval you can show that either $n(1-\\hat{p}) \\ge 10$ or $n(1-\\hat{p}) \\ge 10$  <br><br> Therefore, the CLT conditions are satisfied in this case."
   ]
  },
  {
   "cell_type": "markdown",
   "metadata": {},
   "source": [
    "### Exercise 4:  Suppose that it is believed that support Proposition 19 among 18-34 year-olds will need to be at least 65% in order for Proposition 19 to pass. Use the `inference` function to conduct a hypothesis test for the hypothesis that the proportion of 18-34 year-olds that `support` Proposition 19 is greater than 0.65.  (2 marks)"
   ]
  },
  {
   "cell_type": "code",
   "execution_count": null,
   "metadata": {},
   "outputs": [],
   "source": []
  },
  {
   "cell_type": "markdown",
   "metadata": {},
   "source": [
    "### Exercise 5:  Report the value of the test statistic and the p-value associated with the test (2 marks) "
   ]
  },
  {
   "cell_type": "markdown",
   "metadata": {},
   "source": [
    "### Answer:  "
   ]
  },
  {
   "cell_type": "markdown",
   "metadata": {},
   "source": [
    "### Exercise 6:  Briefly explain whether there is evidence that more than 65% of all 18-34 year olds in California support Proposition 19? (You may use a 0.05 significance level, $\\alpha = 0.05$. (2 marks)"
   ]
  },
  {
   "cell_type": "markdown",
   "metadata": {},
   "source": [
    "### Answer: "
   ]
  },
  {
   "cell_type": "markdown",
   "metadata": {},
   "source": [
    "### Exercise 7:  Use the `inference` function to construct a 95% confidence interval for the proportion of all 18-34 year-olds in California that support Proposition 19. (2 marks)"
   ]
  },
  {
   "cell_type": "code",
   "execution_count": null,
   "metadata": {},
   "outputs": [],
   "source": []
  },
  {
   "cell_type": "markdown",
   "metadata": {},
   "source": [
    "### Exercise 8:  Interpret the confidence interval for the proportion of 18-34 year-olds that support Proposition 19. (2 marks)"
   ]
  },
  {
   "cell_type": "markdown",
   "metadata": {},
   "source": [
    "### Answer: "
   ]
  }
 ],
 "metadata": {
  "kernelspec": {
   "display_name": "R",
   "language": "R",
   "name": "ir"
  },
  "language_info": {
   "codemirror_mode": "r",
   "file_extension": ".r",
   "mimetype": "text/x-r-source",
   "name": "R",
   "pygments_lexer": "r",
   "version": "4.3.0"
  }
 },
 "nbformat": 4,
 "nbformat_minor": 4
}
