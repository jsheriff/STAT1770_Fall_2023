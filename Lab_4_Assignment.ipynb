{
 "cells": [
  {
   "cell_type": "markdown",
   "metadata": {},
   "source": [
    "# Lab 4 Assignment\n",
    "\n",
    "#### Lab 4 Assignment is due on Wednesday October 11 at 8:00 pm. \n",
    "\n",
    "#### Complete this notebook, by introducing and executing the required code and answering the related questions.\n",
    "\n",
    "#### When you have finished your work and wish to submit your assignment, download this notebook as a pdf file: <br>- File > Save and Export Notebook As > PDF <br>or <br>- File > Print > Save as PDF.  <br>Submit the pdf file to Lab 4 Assignment in Crowdmark.\n",
    "\n",
    "#### You can copy, paste, and modify code from previous labs if you wish, as opposed to writing code from scratch. Open the previous lab and highlight the code you want. Then copy and paste the code into this assignment and make the necessary modifications.\n",
    "\n",
    "#### If you have questions, please ask.\n",
    "\n",
    "---"
   ]
  },
  {
   "cell_type": "markdown",
   "metadata": {},
   "source": [
    "## Load Data: "
   ]
  },
  {
   "cell_type": "code",
   "execution_count": null,
   "metadata": {
    "deletable": false,
    "editable": false,
    "slideshow": {
     "slide_type": ""
    },
    "tags": []
   },
   "outputs": [],
   "source": [
    "download.file(\"http://www.openintro.org/stat/data/rda/bac.rda\",destfile = \"bac.rda\")\n",
    "load(\"bac.rda\")\n",
    "alcohol = bac #this step  creates a new dataset called alcohol"
   ]
  },
  {
   "cell_type": "markdown",
   "metadata": {
    "deletable": false,
    "editable": false,
    "slideshow": {
     "slide_type": ""
    },
    "tags": []
   },
   "source": [
    "The `download.file` function and `load` function are used to import the dataset that will be used in the assignment. The dataset is called `bac`. These commands instruct R to access the OpenIntro website and retrieve some data, which is in a file called `bac.rda`. The .rda indicates a file format, like .csv, .txt etc. R is capable of importing files of various formats (using the appropriate command). The `bac` dataset, which is contained within `bac.rda` is already in a format native to R.\n",
    "\n",
    "The final command creates a new dataset called `alcohol` that will be used for this assignment. This is done to avoid possible confusion, since there is a variable in the dataset that is called `bac`"
   ]
  },
  {
   "cell_type": "markdown",
   "metadata": {
    "deletable": false,
    "editable": false
   },
   "source": [
    "## Data Information:\n",
    "\n",
    "### Data Set:\n",
    "\n",
    "#### Name: #### \n",
    "* `alcohol`: dataset containing results from study\n",
    "\n",
    "\n",
    "#### Variables: ####\n",
    "\n",
    "The variables included in the dataset are  \n",
    "\n",
    "* `student`: identifier for student in study.\n",
    "* `beers`: number of cans of beer consumed by student.\n",
    "* `bac`: blood alcohol content recorded for student (grams of alcohol per deciliter of blood)."
   ]
  },
  {
   "cell_type": "markdown",
   "metadata": {
    "deletable": false,
    "editable": false,
    "slideshow": {
     "slide_type": ""
    },
    "tags": []
   },
   "source": [
    "## Beer and blood alcohol content\n",
    "\n",
    "Many people believe that gender, weight, drinking habits, and many other factors are much more important in predicting blood alcohol content (BAC) than simply considering the number of drinks a person consumed. Here we examine data from  student volunteers who each drank a randomly assigned number of cans of beer. Thirty minutes after consuming the assigned cans of beer, their blood alcohol content (BAC) in grams of alcohol per deciliter of blood was measured. We wish to explore the relationship between the number of drinks consumed and blood alcohol content.\n",
    "\n",
    "---"
   ]
  },
  {
   "cell_type": "markdown",
   "metadata": {
    "editable": true,
    "slideshow": {
     "slide_type": ""
    },
    "tags": []
   },
   "source": [
    "We are interested in investigating the relationship between the number of drinks consumed and blood alcohol content."
   ]
  },
  {
   "cell_type": "markdown",
   "metadata": {
    "deletable": false,
    "editable": true,
    "slideshow": {
     "slide_type": ""
    },
    "tags": []
   },
   "source": [
    "### Exercise 1:  Fit the linear model, using `beers` as  the predictor (explanatory) and  `bac` as the response and display the results of fitting the linear model.  (4 marks)"
   ]
  },
  {
   "cell_type": "code",
   "execution_count": null,
   "metadata": {
    "editable": true,
    "slideshow": {
     "slide_type": ""
    },
    "tags": []
   },
   "outputs": [],
   "source": []
  },
  {
   "cell_type": "markdown",
   "metadata": {},
   "source": [
    "### Exercise 2:  Create a plot of blood alcohol content, `bac` (response), against the number of beers consumed, `beers` (explanatory), with the least squares regression line overlaid on the scatterplot.  (3 marks)"
   ]
  },
  {
   "cell_type": "markdown",
   "metadata": {},
   "source": [
    "### Answer: <br> "
   ]
  },
  {
   "cell_type": "markdown",
   "metadata": {
    "deletable": false,
    "editable": true,
    "slideshow": {
     "slide_type": ""
    },
    "tags": []
   },
   "source": [
    "### Exercise 3:  Interpret the slope in the context of this study.  (2 marks)"
   ]
  },
  {
   "cell_type": "code",
   "execution_count": null,
   "metadata": {},
   "outputs": [],
   "source": []
  },
  {
   "cell_type": "markdown",
   "metadata": {},
   "source": [
    "### Answer: <br> "
   ]
  },
  {
   "cell_type": "markdown",
   "metadata": {
    "deletable": false
   },
   "source": [
    "### Exercise 4:  Interpret the intercept in the context of this study.  (2 marks)"
   ]
  },
  {
   "cell_type": "markdown",
   "metadata": {},
   "source": [
    "### Answer: <br>"
   ]
  },
  {
   "cell_type": "markdown",
   "metadata": {
    "deletable": false
   },
   "source": [
    "### Exercise 5:  What proportion of the variability in blood alcohol content is explained by number of beers consumed?  (1 mark)"
   ]
  },
  {
   "cell_type": "markdown",
   "metadata": {},
   "source": [
    "### Answer: <br> "
   ]
  },
  {
   "cell_type": "markdown",
   "metadata": {
    "deletable": false
   },
   "source": [
    "### Exercise 6: Construct an appropriate plot to check the *assumption of nearly normal errors*. (Only one plot is required.)  (2 marks)"
   ]
  },
  {
   "cell_type": "code",
   "execution_count": null,
   "metadata": {},
   "outputs": [],
   "source": []
  },
  {
   "cell_type": "markdown",
   "metadata": {
    "editable": true,
    "slideshow": {
     "slide_type": ""
    },
    "tags": []
   },
   "source": [
    "### Exercise 7: Based upon the plot from Exercise 6, comment on the appropriateness of the *nearly normal errors* assumption. (2 marks)"
   ]
  },
  {
   "cell_type": "markdown",
   "metadata": {},
   "source": [
    "### Answer: <br>"
   ]
  }
 ],
 "metadata": {
  "celltoolbar": "Edit Metadata",
  "kernelspec": {
   "display_name": "R",
   "language": "R",
   "name": "ir"
  },
  "language_info": {
   "codemirror_mode": "r",
   "file_extension": ".r",
   "mimetype": "text/x-r-source",
   "name": "R",
   "pygments_lexer": "r",
   "version": "4.3.0"
  }
 },
 "nbformat": 4,
 "nbformat_minor": 4
}
